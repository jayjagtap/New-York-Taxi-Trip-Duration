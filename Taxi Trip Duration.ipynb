{
 "cells": [
  {
   "cell_type": "code",
   "execution_count": 1,
   "metadata": {},
   "outputs": [],
   "source": [
    "import pandas as pd\n",
    "import numpy as np\n",
    "import datetime as datetime\n",
    "from sklearn.model_selection import train_test_split\n",
    "import matplotlib.pyplot as plt\n",
    "import seaborn as sns"
   ]
  },
  {
   "cell_type": "code",
   "execution_count": 2,
   "metadata": {},
   "outputs": [],
   "source": [
    "import geopy.distance\n",
    "import multiprocessing\n",
    "from multiprocessing import Pool\n",
    "from sklearn import linear_model\n",
    "from sklearn import metrics"
   ]
  },
  {
   "cell_type": "code",
   "execution_count": 3,
   "metadata": {},
   "outputs": [
    {
     "name": "stderr",
     "output_type": "stream",
     "text": [
      "S:\\Anaconda\\lib\\site-packages\\tqdm\\std.py:648: FutureWarning: The Panel class is removed from pandas. Accessing it from the top-level namespace will also be removed in the next version\n",
      "  from pandas import Panel\n"
     ]
    }
   ],
   "source": [
    "from tqdm import tqdm\n",
    "tqdm.pandas()"
   ]
  },
  {
   "cell_type": "code",
   "execution_count": 4,
   "metadata": {},
   "outputs": [
    {
     "data": {
      "text/html": [
       "<div>\n",
       "<style scoped>\n",
       "    .dataframe tbody tr th:only-of-type {\n",
       "        vertical-align: middle;\n",
       "    }\n",
       "\n",
       "    .dataframe tbody tr th {\n",
       "        vertical-align: top;\n",
       "    }\n",
       "\n",
       "    .dataframe thead th {\n",
       "        text-align: right;\n",
       "    }\n",
       "</style>\n",
       "<table border=\"1\" class=\"dataframe\">\n",
       "  <thead>\n",
       "    <tr style=\"text-align: right;\">\n",
       "      <th></th>\n",
       "      <th>0</th>\n",
       "      <th>1</th>\n",
       "      <th>2</th>\n",
       "      <th>3</th>\n",
       "      <th>4</th>\n",
       "    </tr>\n",
       "  </thead>\n",
       "  <tbody>\n",
       "    <tr>\n",
       "      <td>id</td>\n",
       "      <td>id2875421</td>\n",
       "      <td>id2377394</td>\n",
       "      <td>id3858529</td>\n",
       "      <td>id3504673</td>\n",
       "      <td>id2181028</td>\n",
       "    </tr>\n",
       "    <tr>\n",
       "      <td>vendor_id</td>\n",
       "      <td>2</td>\n",
       "      <td>1</td>\n",
       "      <td>2</td>\n",
       "      <td>2</td>\n",
       "      <td>2</td>\n",
       "    </tr>\n",
       "    <tr>\n",
       "      <td>pickup_datetime</td>\n",
       "      <td>2016-03-14 17:24:55</td>\n",
       "      <td>2016-06-12 00:43:35</td>\n",
       "      <td>2016-01-19 11:35:24</td>\n",
       "      <td>2016-04-06 19:32:31</td>\n",
       "      <td>2016-03-26 13:30:55</td>\n",
       "    </tr>\n",
       "    <tr>\n",
       "      <td>dropoff_datetime</td>\n",
       "      <td>2016-03-14 17:32:30</td>\n",
       "      <td>2016-06-12 00:54:38</td>\n",
       "      <td>2016-01-19 12:10:48</td>\n",
       "      <td>2016-04-06 19:39:40</td>\n",
       "      <td>2016-03-26 13:38:10</td>\n",
       "    </tr>\n",
       "    <tr>\n",
       "      <td>passenger_count</td>\n",
       "      <td>1</td>\n",
       "      <td>1</td>\n",
       "      <td>1</td>\n",
       "      <td>1</td>\n",
       "      <td>1</td>\n",
       "    </tr>\n",
       "    <tr>\n",
       "      <td>pickup_longitude</td>\n",
       "      <td>-73.9822</td>\n",
       "      <td>-73.9804</td>\n",
       "      <td>-73.979</td>\n",
       "      <td>-74.01</td>\n",
       "      <td>-73.9731</td>\n",
       "    </tr>\n",
       "    <tr>\n",
       "      <td>pickup_latitude</td>\n",
       "      <td>40.7679</td>\n",
       "      <td>40.7386</td>\n",
       "      <td>40.7639</td>\n",
       "      <td>40.72</td>\n",
       "      <td>40.7932</td>\n",
       "    </tr>\n",
       "    <tr>\n",
       "      <td>dropoff_longitude</td>\n",
       "      <td>-73.9646</td>\n",
       "      <td>-73.9995</td>\n",
       "      <td>-74.0053</td>\n",
       "      <td>-74.0123</td>\n",
       "      <td>-73.9729</td>\n",
       "    </tr>\n",
       "    <tr>\n",
       "      <td>dropoff_latitude</td>\n",
       "      <td>40.7656</td>\n",
       "      <td>40.7312</td>\n",
       "      <td>40.7101</td>\n",
       "      <td>40.7067</td>\n",
       "      <td>40.7825</td>\n",
       "    </tr>\n",
       "    <tr>\n",
       "      <td>store_and_fwd_flag</td>\n",
       "      <td>N</td>\n",
       "      <td>N</td>\n",
       "      <td>N</td>\n",
       "      <td>N</td>\n",
       "      <td>N</td>\n",
       "    </tr>\n",
       "    <tr>\n",
       "      <td>trip_duration</td>\n",
       "      <td>455</td>\n",
       "      <td>663</td>\n",
       "      <td>2124</td>\n",
       "      <td>429</td>\n",
       "      <td>435</td>\n",
       "    </tr>\n",
       "  </tbody>\n",
       "</table>\n",
       "</div>"
      ],
      "text/plain": [
       "                                      0                    1  \\\n",
       "id                            id2875421            id2377394   \n",
       "vendor_id                             2                    1   \n",
       "pickup_datetime     2016-03-14 17:24:55  2016-06-12 00:43:35   \n",
       "dropoff_datetime    2016-03-14 17:32:30  2016-06-12 00:54:38   \n",
       "passenger_count                       1                    1   \n",
       "pickup_longitude               -73.9822             -73.9804   \n",
       "pickup_latitude                 40.7679              40.7386   \n",
       "dropoff_longitude              -73.9646             -73.9995   \n",
       "dropoff_latitude                40.7656              40.7312   \n",
       "store_and_fwd_flag                    N                    N   \n",
       "trip_duration                       455                  663   \n",
       "\n",
       "                                      2                    3  \\\n",
       "id                            id3858529            id3504673   \n",
       "vendor_id                             2                    2   \n",
       "pickup_datetime     2016-01-19 11:35:24  2016-04-06 19:32:31   \n",
       "dropoff_datetime    2016-01-19 12:10:48  2016-04-06 19:39:40   \n",
       "passenger_count                       1                    1   \n",
       "pickup_longitude                -73.979               -74.01   \n",
       "pickup_latitude                 40.7639                40.72   \n",
       "dropoff_longitude              -74.0053             -74.0123   \n",
       "dropoff_latitude                40.7101              40.7067   \n",
       "store_and_fwd_flag                    N                    N   \n",
       "trip_duration                      2124                  429   \n",
       "\n",
       "                                      4  \n",
       "id                            id2181028  \n",
       "vendor_id                             2  \n",
       "pickup_datetime     2016-03-26 13:30:55  \n",
       "dropoff_datetime    2016-03-26 13:38:10  \n",
       "passenger_count                       1  \n",
       "pickup_longitude               -73.9731  \n",
       "pickup_latitude                 40.7932  \n",
       "dropoff_longitude              -73.9729  \n",
       "dropoff_latitude                40.7825  \n",
       "store_and_fwd_flag                    N  \n",
       "trip_duration                       435  "
      ]
     },
     "execution_count": 4,
     "metadata": {},
     "output_type": "execute_result"
    }
   ],
   "source": [
    "train = pd.read_csv(\"train.csv\" , date_parser=True)\n",
    "train.head().T"
   ]
  },
  {
   "cell_type": "code",
   "execution_count": 5,
   "metadata": {},
   "outputs": [
    {
     "data": {
      "text/html": [
       "<div>\n",
       "<style scoped>\n",
       "    .dataframe tbody tr th:only-of-type {\n",
       "        vertical-align: middle;\n",
       "    }\n",
       "\n",
       "    .dataframe tbody tr th {\n",
       "        vertical-align: top;\n",
       "    }\n",
       "\n",
       "    .dataframe thead th {\n",
       "        text-align: right;\n",
       "    }\n",
       "</style>\n",
       "<table border=\"1\" class=\"dataframe\">\n",
       "  <thead>\n",
       "    <tr style=\"text-align: right;\">\n",
       "      <th></th>\n",
       "      <th>0</th>\n",
       "      <th>1</th>\n",
       "      <th>2</th>\n",
       "      <th>3</th>\n",
       "      <th>4</th>\n",
       "    </tr>\n",
       "  </thead>\n",
       "  <tbody>\n",
       "    <tr>\n",
       "      <td>id</td>\n",
       "      <td>id3004672</td>\n",
       "      <td>id3505355</td>\n",
       "      <td>id1217141</td>\n",
       "      <td>id2150126</td>\n",
       "      <td>id1598245</td>\n",
       "    </tr>\n",
       "    <tr>\n",
       "      <td>vendor_id</td>\n",
       "      <td>1</td>\n",
       "      <td>1</td>\n",
       "      <td>1</td>\n",
       "      <td>2</td>\n",
       "      <td>1</td>\n",
       "    </tr>\n",
       "    <tr>\n",
       "      <td>pickup_datetime</td>\n",
       "      <td>2016-06-30 23:59:58</td>\n",
       "      <td>2016-06-30 23:59:53</td>\n",
       "      <td>2016-06-30 23:59:47</td>\n",
       "      <td>2016-06-30 23:59:41</td>\n",
       "      <td>2016-06-30 23:59:33</td>\n",
       "    </tr>\n",
       "    <tr>\n",
       "      <td>passenger_count</td>\n",
       "      <td>1</td>\n",
       "      <td>1</td>\n",
       "      <td>1</td>\n",
       "      <td>1</td>\n",
       "      <td>1</td>\n",
       "    </tr>\n",
       "    <tr>\n",
       "      <td>pickup_longitude</td>\n",
       "      <td>-73.9881</td>\n",
       "      <td>-73.9642</td>\n",
       "      <td>-73.9974</td>\n",
       "      <td>-73.9561</td>\n",
       "      <td>-73.9702</td>\n",
       "    </tr>\n",
       "    <tr>\n",
       "      <td>pickup_latitude</td>\n",
       "      <td>40.732</td>\n",
       "      <td>40.68</td>\n",
       "      <td>40.7376</td>\n",
       "      <td>40.7719</td>\n",
       "      <td>40.7615</td>\n",
       "    </tr>\n",
       "    <tr>\n",
       "      <td>dropoff_longitude</td>\n",
       "      <td>-73.9902</td>\n",
       "      <td>-73.9598</td>\n",
       "      <td>-73.9862</td>\n",
       "      <td>-73.9864</td>\n",
       "      <td>-73.9615</td>\n",
       "    </tr>\n",
       "    <tr>\n",
       "      <td>dropoff_latitude</td>\n",
       "      <td>40.7567</td>\n",
       "      <td>40.6554</td>\n",
       "      <td>40.7295</td>\n",
       "      <td>40.7305</td>\n",
       "      <td>40.7559</td>\n",
       "    </tr>\n",
       "    <tr>\n",
       "      <td>store_and_fwd_flag</td>\n",
       "      <td>N</td>\n",
       "      <td>N</td>\n",
       "      <td>N</td>\n",
       "      <td>N</td>\n",
       "      <td>N</td>\n",
       "    </tr>\n",
       "  </tbody>\n",
       "</table>\n",
       "</div>"
      ],
      "text/plain": [
       "                                      0                    1  \\\n",
       "id                            id3004672            id3505355   \n",
       "vendor_id                             1                    1   \n",
       "pickup_datetime     2016-06-30 23:59:58  2016-06-30 23:59:53   \n",
       "passenger_count                       1                    1   \n",
       "pickup_longitude               -73.9881             -73.9642   \n",
       "pickup_latitude                  40.732                40.68   \n",
       "dropoff_longitude              -73.9902             -73.9598   \n",
       "dropoff_latitude                40.7567              40.6554   \n",
       "store_and_fwd_flag                    N                    N   \n",
       "\n",
       "                                      2                    3  \\\n",
       "id                            id1217141            id2150126   \n",
       "vendor_id                             1                    2   \n",
       "pickup_datetime     2016-06-30 23:59:47  2016-06-30 23:59:41   \n",
       "passenger_count                       1                    1   \n",
       "pickup_longitude               -73.9974             -73.9561   \n",
       "pickup_latitude                 40.7376              40.7719   \n",
       "dropoff_longitude              -73.9862             -73.9864   \n",
       "dropoff_latitude                40.7295              40.7305   \n",
       "store_and_fwd_flag                    N                    N   \n",
       "\n",
       "                                      4  \n",
       "id                            id1598245  \n",
       "vendor_id                             1  \n",
       "pickup_datetime     2016-06-30 23:59:33  \n",
       "passenger_count                       1  \n",
       "pickup_longitude               -73.9702  \n",
       "pickup_latitude                 40.7615  \n",
       "dropoff_longitude              -73.9615  \n",
       "dropoff_latitude                40.7559  \n",
       "store_and_fwd_flag                    N  "
      ]
     },
     "execution_count": 5,
     "metadata": {},
     "output_type": "execute_result"
    }
   ],
   "source": [
    "test = pd.read_csv(\"test.csv\", date_parser=True)\n",
    "test.head().T"
   ]
  },
  {
   "cell_type": "code",
   "execution_count": 6,
   "metadata": {},
   "outputs": [
    {
     "name": "stdout",
     "output_type": "stream",
     "text": [
      "Train Shape:  (1458644, 11)\n",
      "Test Shape:  (625134, 9)\n"
     ]
    }
   ],
   "source": [
    "print(\"Train Shape: \" , train.shape)\n",
    "print(\"Test Shape: \" , test.shape)"
   ]
  },
  {
   "cell_type": "code",
   "execution_count": 7,
   "metadata": {},
   "outputs": [
    {
     "data": {
      "text/html": [
       "<div>\n",
       "<style scoped>\n",
       "    .dataframe tbody tr th:only-of-type {\n",
       "        vertical-align: middle;\n",
       "    }\n",
       "\n",
       "    .dataframe tbody tr th {\n",
       "        vertical-align: top;\n",
       "    }\n",
       "\n",
       "    .dataframe thead th {\n",
       "        text-align: right;\n",
       "    }\n",
       "</style>\n",
       "<table border=\"1\" class=\"dataframe\">\n",
       "  <thead>\n",
       "    <tr style=\"text-align: right;\">\n",
       "      <th></th>\n",
       "      <th>count</th>\n",
       "      <th>mean</th>\n",
       "      <th>std</th>\n",
       "      <th>min</th>\n",
       "      <th>25%</th>\n",
       "      <th>50%</th>\n",
       "      <th>75%</th>\n",
       "      <th>max</th>\n",
       "    </tr>\n",
       "  </thead>\n",
       "  <tbody>\n",
       "    <tr>\n",
       "      <td>vendor_id</td>\n",
       "      <td>1458644.0</td>\n",
       "      <td>1.534950</td>\n",
       "      <td>0.498777</td>\n",
       "      <td>1.000000</td>\n",
       "      <td>1.000000</td>\n",
       "      <td>2.000000</td>\n",
       "      <td>2.000000</td>\n",
       "      <td>2.000000e+00</td>\n",
       "    </tr>\n",
       "    <tr>\n",
       "      <td>passenger_count</td>\n",
       "      <td>1458644.0</td>\n",
       "      <td>1.664530</td>\n",
       "      <td>1.314242</td>\n",
       "      <td>0.000000</td>\n",
       "      <td>1.000000</td>\n",
       "      <td>1.000000</td>\n",
       "      <td>2.000000</td>\n",
       "      <td>9.000000e+00</td>\n",
       "    </tr>\n",
       "    <tr>\n",
       "      <td>pickup_longitude</td>\n",
       "      <td>1458644.0</td>\n",
       "      <td>-73.973486</td>\n",
       "      <td>0.070902</td>\n",
       "      <td>-121.933342</td>\n",
       "      <td>-73.991867</td>\n",
       "      <td>-73.981743</td>\n",
       "      <td>-73.967331</td>\n",
       "      <td>-6.133553e+01</td>\n",
       "    </tr>\n",
       "    <tr>\n",
       "      <td>pickup_latitude</td>\n",
       "      <td>1458644.0</td>\n",
       "      <td>40.750921</td>\n",
       "      <td>0.032881</td>\n",
       "      <td>34.359695</td>\n",
       "      <td>40.737347</td>\n",
       "      <td>40.754101</td>\n",
       "      <td>40.768360</td>\n",
       "      <td>5.188108e+01</td>\n",
       "    </tr>\n",
       "    <tr>\n",
       "      <td>dropoff_longitude</td>\n",
       "      <td>1458644.0</td>\n",
       "      <td>-73.973416</td>\n",
       "      <td>0.070643</td>\n",
       "      <td>-121.933304</td>\n",
       "      <td>-73.991325</td>\n",
       "      <td>-73.979752</td>\n",
       "      <td>-73.963013</td>\n",
       "      <td>-6.133553e+01</td>\n",
       "    </tr>\n",
       "    <tr>\n",
       "      <td>dropoff_latitude</td>\n",
       "      <td>1458644.0</td>\n",
       "      <td>40.751800</td>\n",
       "      <td>0.035891</td>\n",
       "      <td>32.181141</td>\n",
       "      <td>40.735885</td>\n",
       "      <td>40.754524</td>\n",
       "      <td>40.769810</td>\n",
       "      <td>4.392103e+01</td>\n",
       "    </tr>\n",
       "    <tr>\n",
       "      <td>trip_duration</td>\n",
       "      <td>1458644.0</td>\n",
       "      <td>959.492273</td>\n",
       "      <td>5237.431724</td>\n",
       "      <td>1.000000</td>\n",
       "      <td>397.000000</td>\n",
       "      <td>662.000000</td>\n",
       "      <td>1075.000000</td>\n",
       "      <td>3.526282e+06</td>\n",
       "    </tr>\n",
       "  </tbody>\n",
       "</table>\n",
       "</div>"
      ],
      "text/plain": [
       "                       count        mean          std         min         25%  \\\n",
       "vendor_id          1458644.0    1.534950     0.498777    1.000000    1.000000   \n",
       "passenger_count    1458644.0    1.664530     1.314242    0.000000    1.000000   \n",
       "pickup_longitude   1458644.0  -73.973486     0.070902 -121.933342  -73.991867   \n",
       "pickup_latitude    1458644.0   40.750921     0.032881   34.359695   40.737347   \n",
       "dropoff_longitude  1458644.0  -73.973416     0.070643 -121.933304  -73.991325   \n",
       "dropoff_latitude   1458644.0   40.751800     0.035891   32.181141   40.735885   \n",
       "trip_duration      1458644.0  959.492273  5237.431724    1.000000  397.000000   \n",
       "\n",
       "                          50%          75%           max  \n",
       "vendor_id            2.000000     2.000000  2.000000e+00  \n",
       "passenger_count      1.000000     2.000000  9.000000e+00  \n",
       "pickup_longitude   -73.981743   -73.967331 -6.133553e+01  \n",
       "pickup_latitude     40.754101    40.768360  5.188108e+01  \n",
       "dropoff_longitude  -73.979752   -73.963013 -6.133553e+01  \n",
       "dropoff_latitude    40.754524    40.769810  4.392103e+01  \n",
       "trip_duration      662.000000  1075.000000  3.526282e+06  "
      ]
     },
     "execution_count": 7,
     "metadata": {},
     "output_type": "execute_result"
    }
   ],
   "source": [
    "train.describe().T"
   ]
  },
  {
   "cell_type": "code",
   "execution_count": null,
   "metadata": {},
   "outputs": [],
   "source": [
    "train.sample(5)"
   ]
  },
  {
   "cell_type": "markdown",
   "metadata": {},
   "source": [
    "### This tells us that there are no missing values in the dataset"
   ]
  },
  {
   "cell_type": "code",
   "execution_count": 8,
   "metadata": {},
   "outputs": [],
   "source": [
    "from sklearn.linear_model import LinearRegression\n",
    "from sklearn.model_selection import train_test_split"
   ]
  },
  {
   "cell_type": "markdown",
   "metadata": {},
   "source": [
    "## Calculate distance using co-ordinates using geopy"
   ]
  },
  {
   "cell_type": "code",
   "execution_count": 9,
   "metadata": {},
   "outputs": [],
   "source": [
    "import time\n",
    "train_temp = pd.read_csv(\"train.csv\")\n",
    "geo_data = []\n",
    "for plong,plat,dlong,dlat in zip(train_temp.pickup_longitude,\n",
    "                                 train_temp.pickup_latitude,\n",
    "                                 train_temp.dropoff_longitude,\n",
    "                                 train_temp.dropoff_latitude):\n",
    "    \n",
    "    if (plat<-90 or plat>90) or (dlat<-90 or dlat>90):\n",
    "        print(\"yes\", plat, dlat)\n",
    "    \n",
    "    point = (plat,plong,dlat,dlong)\n",
    "    geo_data.append(point)"
   ]
  },
  {
   "cell_type": "code",
   "execution_count": 10,
   "metadata": {},
   "outputs": [],
   "source": [
    "def cal_km(geo_points):\n",
    "    coord_1 = (geo_points[0],geo_points[1])\n",
    "    coord_2 = (geo_points[2],geo_points[3])\n",
    "    try:\n",
    "        d = geopy.distance.geodesic(coord_1, coord_2).km\n",
    "        return d\n",
    "    except Exception as e:\n",
    "        print(geo_points)\n",
    "        return np.NaN"
   ]
  },
  {
   "cell_type": "code",
   "execution_count": null,
   "metadata": {},
   "outputs": [
    {
     "name": "stdout",
     "output_type": "stream",
     "text": [
      "CPU count:  8\n"
     ]
    }
   ],
   "source": [
    "print(\"CPU count: \", multiprocessing.cpu_count())\n",
    "start_time = time.time()\n",
    "with Pool(6) as p:\n",
    "    distance = p.map(cal_km, geo_data)\n",
    "\n",
    "print(\"{} seconds\".format(time.time() - start_time))"
   ]
  },
  {
   "cell_type": "code",
   "execution_count": null,
   "metadata": {},
   "outputs": [],
   "source": [
    "K = 5\n",
    "Centroids = (X.sample(n=K))\n",
    "plt.scatter(X['pickup_longitude'], X['pickup_latitude'], c='red')\n",
    "plt.title('Pickup Location Scatter plot')\n",
    "plt.xlabel('pickup_longitude')\n",
    "plt.ylabel('pickup_latitude')\n",
    "plt.scatter(Centroids[\"pickup_longitude\"],Centroids[\"pickup_latitude\"],c='green')\n",
    "plt.show()"
   ]
  },
  {
   "cell_type": "code",
   "execution_count": null,
   "metadata": {},
   "outputs": [],
   "source": [
    "X = train[['pickup_longitude','pickup_latitude']]\n",
    "K = 100\n",
    "from sklearn.preprocessing import StandardScaler\n",
    "scaler = StandardScaler()\n",
    "print(type(X))\n",
    "X = scaler.fit_transform(X)\n",
    "print(type(X))\n",
    "## X is numpy array after sacling, lets convert it back to a Dataframe\n",
    "X = pd.DataFrame(X, columns=['pickup_longitude', 'pickup_latitude'])\n",
    "type(X)\n",
    "X"
   ]
  },
  {
   "cell_type": "code",
   "execution_count": null,
   "metadata": {},
   "outputs": [],
   "source": [
    "X = train[['dropoff_longitude','dropoff_latitude']]\n",
    "K = 100\n",
    "from sklearn.preprocessing import StandardScaler\n",
    "scaler = StandardScaler()\n",
    "X = scaler.fit_transform(X)\n",
    "print(type(X))\n",
    "X = scaler.fit_transform(X)\n",
    "print(type(X))\n",
    "## X is numpy array after sacling, lets convert it back to a Dataframe\n",
    "X = pd.DataFrame(X, columns=['dropoff_longitude', 'dropoff_latitude'])\n",
    "type(X)\n",
    "X"
   ]
  },
  {
   "cell_type": "code",
   "execution_count": null,
   "metadata": {},
   "outputs": [],
   "source": [
    "Centroids = (X.sample(n=K))\n",
    "plt.scatter(X['dropoff_longitude'], X['dropoff_latitude'], c='red')\n",
    "plt.title('Drop Off Location Scatter plot')\n",
    "plt.xlabel('dropoff_longitude')\n",
    "plt.ylabel('dropoff_latitude')\n",
    "plt.scatter(Centroids[\"dropoff_longitude\"],Centroids[\"dropoff_latitude\"],c='green')\n",
    "plt.show()"
   ]
  },
  {
   "cell_type": "code",
   "execution_count": null,
   "metadata": {},
   "outputs": [],
   "source": [
    "x = train['dropoff_longitude']\n",
    "y = train['dropoff_latitude']\n",
    "plt.scatter(x, y, c='blue')\n",
    "\n",
    "x = train['pickup_longitude']\n",
    "y = train['pickup_latitude']\n",
    "\n",
    "plt.scatter(x, y, c='red')\n",
    "\n",
    "plt.show()"
   ]
  },
  {
   "cell_type": "markdown",
   "metadata": {},
   "source": [
    "## Scaling the training dataset"
   ]
  },
  {
   "cell_type": "code",
   "execution_count": null,
   "metadata": {},
   "outputs": [],
   "source": [
    "train.head()"
   ]
  },
  {
   "cell_type": "code",
   "execution_count": null,
   "metadata": {},
   "outputs": [],
   "source": [
    "from sklearn.preprocessing import StandardScaler\n",
    "scaler = StandardScaler()\n",
    "train[['pickup_longitude','pickup_latitude','dropoff_longitude','dropoff_latitude']] = scaler.fit_transform(train[['pickup_longitude','pickup_latitude','dropoff_longitude','dropoff_latitude']])\n",
    "train.head()"
   ]
  },
  {
   "cell_type": "code",
   "execution_count": null,
   "metadata": {},
   "outputs": [],
   "source": [
    "# fitting multiple k-means algorithms and storing the values in an empty list\n",
    "SSE = []\n",
    "from sklearn.cluster import KMeans\n",
    "def Calculate_SSE():\n",
    "    for cluster in range(1,30):\n",
    "        kmeans = KMeans(n_jobs = -1, n_clusters = cluster, init='k-means++')\n",
    "        kmeans.fit(train[['pickup_longitude','pickup_latitude']])\n",
    "        SSE.append(kmeans.inertia_)\n",
    "        \n",
    "Calculate_SSE()\n",
    "print(SSE)"
   ]
  },
  {
   "cell_type": "code",
   "execution_count": null,
   "metadata": {},
   "outputs": [],
   "source": [
    "# SSE\n",
    "# with Pool(8) as p:\n",
    "#     SSE = p.map(Calculate_SSE , list(range(1,30)))\n",
    "print(\"CPU count: \", multiprocessing.cpu_count())"
   ]
  },
  {
   "cell_type": "code",
   "execution_count": null,
   "metadata": {},
   "outputs": [],
   "source": [
    " # converting the results into a dataframe and plotting them\n",
    "frame = pd.DataFrame({'Cluster':range(1,30), 'SSE':SSE})\n",
    "\n",
    "plt.figure(figsize=(12,6))\n",
    "plt.plot(frame['Cluster'], frame['SSE'], marker='o')\n",
    "plt.xlabel('Number of clusters')\n",
    "plt.ylabel('Inertia')"
   ]
  },
  {
   "cell_type": "markdown",
   "metadata": {},
   "source": [
    "### Based on the elbow method we select the value of k = 6"
   ]
  },
  {
   "cell_type": "markdown",
   "metadata": {},
   "source": [
    "## Create a cluster for pickup co-ordinates"
   ]
  },
  {
   "cell_type": "code",
   "execution_count": null,
   "metadata": {},
   "outputs": [],
   "source": [
    "kmeans = KMeans(n_jobs = -1, n_clusters = 6, init='k-means++')\n",
    "kmeans.fit(train[['pickup_longitude','pickup_latitude']])\n",
    "pred = kmeans.predict(train[['pickup_longitude','pickup_latitude']])\n",
    "pred"
   ]
  },
  {
   "cell_type": "code",
   "execution_count": null,
   "metadata": {},
   "outputs": [],
   "source": [
    "frame = pd.DataFrame()\n",
    "# train['pickup_cluster'] = pred\n",
    "train['pickup_cluster'] = pred\n",
    "train['pickup_cluster'].value_counts()"
   ]
  },
  {
   "cell_type": "markdown",
   "metadata": {},
   "source": [
    "## Do the same for dropoff co-ordintes"
   ]
  },
  {
   "cell_type": "code",
   "execution_count": null,
   "metadata": {},
   "outputs": [],
   "source": [
    "kmeans = KMeans(n_jobs = -1, n_clusters = 6, init='k-means++')\n",
    "kmeans.fit(train[['dropoff_longitude','dropoff_latitude']])\n",
    "pred = kmeans.predict(train[['dropoff_longitude','dropoff_latitude']])\n",
    "pred"
   ]
  },
  {
   "cell_type": "code",
   "execution_count": null,
   "metadata": {},
   "outputs": [],
   "source": [
    "frame = pd.DataFrame()\n",
    "# train['pickup_cluster'] = pred\n",
    "train['dropoff_cluster'] = pred\n",
    "train['dropoff_cluster'].value_counts()"
   ]
  },
  {
   "cell_type": "markdown",
   "metadata": {},
   "source": [
    "## Lets analyze the date feauture of train and test sets"
   ]
  },
  {
   "cell_type": "code",
   "execution_count": null,
   "metadata": {},
   "outputs": [],
   "source": [
    "print(\"Minimum Date: \",train['pickup_datetime'].min())\n",
    "print(\"Maximum Date: \", train['pickup_datetime'].max())"
   ]
  },
  {
   "cell_type": "code",
   "execution_count": null,
   "metadata": {},
   "outputs": [],
   "source": [
    "print(\"Minimum Date: \",test['pickup_datetime'].min())\n",
    "print(\"Maximum Date: \", test['pickup_datetime'].max())"
   ]
  },
  {
   "cell_type": "markdown",
   "metadata": {},
   "source": [
    "### Insight from above data: Its a six month period only, so year data feature has no relevance"
   ]
  },
  {
   "cell_type": "code",
   "execution_count": null,
   "metadata": {},
   "outputs": [],
   "source": [
    "df = pd.DataFrame()\n",
    "train['pickup_datetime'] = pd.to_datetime(train['pickup_datetime'], format = '%Y-%m-%d %H:%M:%S', errors = 'coerce')\n",
    "train.head(5)\n",
    "train['pickup_datetime_month'] = train['pickup_datetime'].dt.month\n",
    "train['pickup_datetime_dayofweek'] = train['pickup_datetime'].dt.dayofweek\n",
    "train['pickup_datetime_hour'] = train['pickup_datetime'].dt.hour\n",
    "train['pickup_datetime_minute'] = train['pickup_datetime'].dt.minute\n",
    "train.head(5)"
   ]
  },
  {
   "cell_type": "code",
   "execution_count": null,
   "metadata": {},
   "outputs": [],
   "source": [
    "train['pickup_datetime_dayofweek'].value_counts(normalize =True)*100"
   ]
  },
  {
   "cell_type": "code",
   "execution_count": null,
   "metadata": {},
   "outputs": [],
   "source": [
    "train.pickup_datetime_hour.plot.hist(bins=24, ec=\"black\")"
   ]
  },
  {
   "cell_type": "code",
   "execution_count": null,
   "metadata": {},
   "outputs": [],
   "source": [
    "train.pickup_datetime_minute.plot.hist(bins=24, ec=\"black\")"
   ]
  },
  {
   "cell_type": "code",
   "execution_count": null,
   "metadata": {},
   "outputs": [],
   "source": [
    "from sklearn.preprocessing import OneHotEncoder\n",
    "# creating instance of one-hot-encoder\n",
    "enc = OneHotEncoder(handle_unknown='ignore')\n",
    "# passing bridge-types-cat column (label encoded values of bridge_types)\n",
    "enc_df = pd.DataFrame(enc.fit_transform(train[['pickup_datetime_hour']]).toarray())\n",
    "# merge with main df bridge_df on key values\n",
    "enc_df"
   ]
  },
  {
   "cell_type": "code",
   "execution_count": null,
   "metadata": {},
   "outputs": [],
   "source": [
    "train.head()"
   ]
  },
  {
   "cell_type": "code",
   "execution_count": null,
   "metadata": {},
   "outputs": [],
   "source": [
    "import time\n",
    "train_temp = pd.read_csv(\"train.csv\")\n",
    "geo_data = []\n",
    "for plong,plat,dlong,dlat in zip(train_temp.pickup_longitude,\n",
    "                                 train_temp.pickup_latitude,\n",
    "                                 train_temp.dropoff_longitude,\n",
    "                                 train_temp.dropoff_latitude):\n",
    "    \n",
    "    if (plat<-90 or plat>90) or (dlat<-90 or dlat>90):\n",
    "        print(\"yes\", plat, dlat)\n",
    "    \n",
    "    point = (plat,plong,dlat,dlong)\n",
    "    geo_data.append(point)\n",
    "\n",
    "def cal_km(geo_points):\n",
    "    coord_1 = (geo_points[0],geo_points[1])\n",
    "    coord_2 = (geo_points[2],geo_points[3])\n",
    "    try:\n",
    "        d = geopy.distance.geodesic(coord_1, coord_2).km\n",
    "        return d\n",
    "    except Exception as e:\n",
    "        print(geo_points)\n",
    "        return np.NaN\n",
    "    \n",
    "print(\"CPU count: \", multiprocessing.cpu_count())\n",
    "start_time = time.time()\n",
    "\n",
    "with Pool(6) as p:\n",
    "    distance = p.map(cal_km, geo_data)\n",
    "\n",
    "print(\"{} seconds\".format(time.time() - start_time))"
   ]
  }
 ],
 "metadata": {
  "kernelspec": {
   "display_name": "Python 3",
   "language": "python",
   "name": "python3"
  },
  "language_info": {
   "codemirror_mode": {
    "name": "ipython",
    "version": 3
   },
   "file_extension": ".py",
   "mimetype": "text/x-python",
   "name": "python",
   "nbconvert_exporter": "python",
   "pygments_lexer": "ipython3",
   "version": "3.7.4"
  }
 },
 "nbformat": 4,
 "nbformat_minor": 2
}
